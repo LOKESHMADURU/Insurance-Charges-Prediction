{
 "cells": [
  {
   "cell_type": "markdown",
   "id": "a822191c-f18b-4667-a94d-12acc92a59a9",
   "metadata": {},
   "source": [
    "# Insurance Prediction for Production"
   ]
  },
  {
   "cell_type": "code",
   "execution_count": 1,
   "id": "6e5e5917-c818-47a5-afa7-3f01cdee8f65",
   "metadata": {},
   "outputs": [],
   "source": [
    "import gradio as gr\n",
    "import pandas as pd\n",
    "import numpy as np\n",
    "import joblib"
   ]
  },
  {
   "cell_type": "code",
   "execution_count": 2,
   "id": "825f77c5-89cb-4b9f-9f7d-1e9ad6d97ac9",
   "metadata": {},
   "outputs": [],
   "source": [
    "# Load saved components\n",
    "components = joblib.load(\"best_Insurance_Prediction_model.joblib\")\n",
    "model = components['model']\n",
    "scaler = components['scaler']\n",
    "selected_features = components['selected_features']"
   ]
  },
  {
   "cell_type": "code",
   "execution_count": 3,
   "id": "8dbb7b9d-3dd2-4773-b6be-d291fdd58afc",
   "metadata": {},
   "outputs": [],
   "source": [
    "# Define categorical mappings \n",
    "exercise_map = {'Never': 0, 'Rarely': 1, 'Occasionally': 2, 'Frequently': 3}\n",
    "coverage_map = {'Basic': 0, 'Standard': 1, 'Premium': 2}"
   ]
  },
  {
   "cell_type": "code",
   "execution_count": 4,
   "id": "0833679f-bf04-4057-b159-31cb81bb6656",
   "metadata": {},
   "outputs": [],
   "source": [
    "# Define categorical options for Gradio inputs\n",
    "gender_options = [\"male\", \"female\"]\n",
    "smoker_options = [\"yes\", \"no\"]\n",
    "region_options = [\"northeast\", \"northwest\", \"southeast\", \"southwest\"]\n",
    "exercise_options = list(exercise_map.keys())\n",
    "coverage_options = list(coverage_map.keys())\n",
    "medical_history_options = [\"None\", \"Diabetes\", \"Heart Disease\", \"Other\"]\n",
    "family_history_options = [\"None\", \"Diabetes\", \"Heart Disease\", \"Other\"]\n",
    "occupation_options = [\"Tech\", \"Business\", \"Healthcare\", \"Other\"]"
   ]
  },
  {
   "cell_type": "code",
   "execution_count": 5,
   "id": "45afe974-5b21-437c-9a3d-e186a6bb52fe",
   "metadata": {},
   "outputs": [],
   "source": [
    "# Prediction function\n",
    "def predict(age, bmi, children, gender, smoker, region, exercise_frequency,\n",
    "            coverage_level, medical_history, family_medical_history, occupation):\n",
    "    \n",
    "    # Create input dataframe\n",
    "    data = {\n",
    "        \"age\": [age],\n",
    "        \"bmi\": [bmi],\n",
    "        \"children\": [children],\n",
    "        \"gender\": [gender],\n",
    "        \"smoker\": [smoker],\n",
    "        \"region\": [region],\n",
    "        \"exercise_frequency\": [exercise_frequency],\n",
    "        \"coverage_level\": [coverage_level],\n",
    "        \"medical_history\": [medical_history],\n",
    "        \"family_medical_history\": [family_medical_history],\n",
    "        \"occupation\": [occupation]\n",
    "    }\n",
    "    df = pd.DataFrame(data)\n",
    "    \n",
    "    # One-hot encode categorical columns (same as training)\n",
    "    df_encoded = pd.get_dummies(df, columns=['gender','smoker','region','medical_history',\n",
    "                                             'family_medical_history','occupation'],\n",
    "                                drop_first=True, dtype=int)\n",
    "    \n",
    "    # Apply ordinal mapping\n",
    "    df_encoded['exercise_frequency'] = df_encoded['exercise_frequency'].map(exercise_map)\n",
    "    df_encoded['coverage_level'] = df_encoded['coverage_level'].map(coverage_map)\n",
    "    \n",
    "    # Ensure all selected features exist\n",
    "    for col in selected_features:\n",
    "        if col not in df_encoded.columns:\n",
    "            df_encoded[col] = 0  # add missing columns as 0\n",
    "    \n",
    "    # Scale numerical columns\n",
    "    scale_cols = ['age','bmi','children','exercise_frequency','coverage_level']\n",
    "    df_encoded[scale_cols] = scaler.transform(df_encoded[scale_cols])\n",
    "    \n",
    "    # Reorder columns to match training\n",
    "    df_encoded = df_encoded[selected_features]\n",
    "    \n",
    "    # Predict\n",
    "    prediction = model.predict(df_encoded)[0]\n",
    "    \n",
    "    return f\"Predicted Insurance Charges: ${prediction:.2f}\"\n"
   ]
  },
  {
   "cell_type": "code",
   "execution_count": 6,
   "id": "a21d397d-f86e-4f09-8608-356dd3e25861",
   "metadata": {},
   "outputs": [
    {
     "name": "stdout",
     "output_type": "stream",
     "text": [
      "* Running on local URL:  http://127.0.0.1:7860\n",
      "* To create a public link, set `share=True` in `launch()`.\n"
     ]
    },
    {
     "data": {
      "text/html": [
       "<div><iframe src=\"http://127.0.0.1:7860/\" width=\"100%\" height=\"500\" allow=\"autoplay; camera; microphone; clipboard-read; clipboard-write;\" frameborder=\"0\" allowfullscreen></iframe></div>"
      ],
      "text/plain": [
       "<IPython.core.display.HTML object>"
      ]
     },
     "metadata": {},
     "output_type": "display_data"
    },
    {
     "data": {
      "text/plain": []
     },
     "execution_count": 6,
     "metadata": {},
     "output_type": "execute_result"
    }
   ],
   "source": [
    "# Build Gradio Interface\n",
    "with gr.Blocks() as demo:\n",
    "    gr.Markdown(\"## Insurance Prediction App\")\n",
    "    \n",
    "    with gr.Row():\n",
    "        age = gr.Number(label=\"Age\", value=30)\n",
    "        bmi = gr.Number(label=\"BMI\", value=25.0)\n",
    "        children = gr.Number(label=\"Number of Children\", value=0)\n",
    "    \n",
    "    with gr.Row():\n",
    "        gender = gr.Dropdown(gender_options, label=\"Gender\")\n",
    "        smoker = gr.Dropdown(smoker_options, label=\"Smoker\")\n",
    "        region = gr.Dropdown(region_options, label=\"Region\")\n",
    "    \n",
    "    with gr.Row():\n",
    "        exercise_frequency = gr.Dropdown(exercise_options, label=\"Exercise Frequency\")\n",
    "        coverage_level = gr.Dropdown(coverage_options, label=\"Coverage Level\")\n",
    "    \n",
    "    with gr.Row():\n",
    "        medical_history = gr.Dropdown(medical_history_options, label=\"Medical History\")\n",
    "        family_medical_history = gr.Dropdown(family_history_options, label=\"Family Medical History\")\n",
    "        occupation = gr.Dropdown(occupation_options, label=\"Occupation\")\n",
    "    \n",
    "    predict_btn = gr.Button(\"Predict\")\n",
    "    output = gr.Textbox(label=\"Prediction Result\")\n",
    "    \n",
    "    predict_btn.click(fn=predict, \n",
    "                      inputs=[age,bmi,children,gender,smoker,region,\n",
    "                              exercise_frequency,coverage_level,medical_history,\n",
    "                              family_medical_history,occupation],\n",
    "                      outputs=output)\n",
    "\n",
    "demo.launch()"
   ]
  }
 ],
 "metadata": {
  "kernelspec": {
   "display_name": "Python 3 (ipykernel)",
   "language": "python",
   "name": "python3"
  },
  "language_info": {
   "codemirror_mode": {
    "name": "ipython",
    "version": 3
   },
   "file_extension": ".py",
   "mimetype": "text/x-python",
   "name": "python",
   "nbconvert_exporter": "python",
   "pygments_lexer": "ipython3",
   "version": "3.11.7"
  }
 },
 "nbformat": 4,
 "nbformat_minor": 5
}
